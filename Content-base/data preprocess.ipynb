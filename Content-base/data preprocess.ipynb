{
 "cells": [
  {
   "cell_type": "markdown",
   "metadata": {},
   "source": [
    "Dataset Download"
   ]
  },
  {
   "cell_type": "code",
   "execution_count": 2,
   "metadata": {
    "tags": []
   },
   "outputs": [
    {
     "name": "stdout",
     "output_type": "stream",
     "text": [
      "--2020-09-22 10:00:54--  https://s3-api.us-geo.objectstorage.softlayer.net/cf-courses-data/CognitiveClass/ML0101ENv3/labs/moviedataset.zip\n",
      "Resolving s3-api.us-geo.objectstorage.softlayer.net (s3-api.us-geo.objectstorage.softlayer.net)...67.228.254.196\n",
      "Connecting to s3-api.us-geo.objectstorage.softlayer.net (s3-api.us-geo.objectstorage.softlayer.net)|67.228.254.196|:443...connected.\n",
      "HTTP request sent, awaiting response...200 OK\n",
      "Length: 160301210 (153M) [application/zip]\n",
      "Saving to: ‘moviedataset.zip’\n",
      "\n",
      "moviedataset.zip    100%[===================>] 152.88M   327KB/s    in 6m 0s   \n",
      "\n",
      "2020-09-22 10:06:57 (435 KB/s) - ‘moviedataset.zip’ saved [160301210/160301210]\n",
      "\n",
      "unziping ...\n",
      "Archive:  moviedataset.zip\n",
      "  inflating: links.csv               \n",
      "  inflating: movies.csv\n",
      "  inflating: ratings.csv\n",
      "  inflating: README.txt              \n",
      "  inflating: tags.csv\n"
     ]
    }
   ],
   "source": [
    "!wget -O moviedataset.zip https://s3-api.us-geo.objectstorage.softlayer.net/cf-courses-data/CognitiveClass/ML0101ENv3/labs/moviedataset.zip\n",
    "print('unziping ...')\n",
    "!unzip -o -j moviedataset.zip "
   ]
  },
  {
   "cell_type": "code",
   "execution_count": 1,
   "metadata": {},
   "outputs": [],
   "source": [
    "#Dataframe manipulation library\n",
    "import pandas as pd\n",
    "#Math functions, we'll only need the sqrt function so let's import only that\n",
    "from math import sqrt\n",
    "import numpy as np\n",
    "import matplotlib.pyplot as plt\n",
    "%matplotlib inline"
   ]
  },
  {
   "cell_type": "markdown",
   "metadata": {},
   "source": [
    "Reading movies csv file"
   ]
  },
  {
   "cell_type": "code",
   "execution_count": 3,
   "metadata": {},
   "outputs": [],
   "source": [
    "movies_df = pd.read_csv('movies.csv')"
   ]
  },
  {
   "cell_type": "markdown",
   "metadata": {},
   "source": [
    "extract year from title and create year in a separate column"
   ]
  },
  {
   "cell_type": "code",
   "execution_count": 4,
   "metadata": {},
   "outputs": [
    {
     "data": {
      "text/html": [
       "<div>\n",
       "<style scoped>\n",
       "    .dataframe tbody tr th:only-of-type {\n",
       "        vertical-align: middle;\n",
       "    }\n",
       "\n",
       "    .dataframe tbody tr th {\n",
       "        vertical-align: top;\n",
       "    }\n",
       "\n",
       "    .dataframe thead th {\n",
       "        text-align: right;\n",
       "    }\n",
       "</style>\n",
       "<table border=\"1\" class=\"dataframe\">\n",
       "  <thead>\n",
       "    <tr style=\"text-align: right;\">\n",
       "      <th></th>\n",
       "      <th>movieId</th>\n",
       "      <th>title</th>\n",
       "      <th>genres</th>\n",
       "      <th>year</th>\n",
       "    </tr>\n",
       "  </thead>\n",
       "  <tbody>\n",
       "    <tr>\n",
       "      <th>0</th>\n",
       "      <td>1</td>\n",
       "      <td>Toy Story (1995)</td>\n",
       "      <td>Adventure|Animation|Children|Comedy|Fantasy</td>\n",
       "      <td>(1995)</td>\n",
       "    </tr>\n",
       "  </tbody>\n",
       "</table>\n",
       "</div>"
      ],
      "text/plain": [
       "   movieId             title                                       genres  \\\n",
       "0        1  Toy Story (1995)  Adventure|Animation|Children|Comedy|Fantasy   \n",
       "\n",
       "     year  \n",
       "0  (1995)  "
      ]
     },
     "execution_count": 4,
     "metadata": {},
     "output_type": "execute_result"
    }
   ],
   "source": [
    "movies_df['year'] = movies_df.title.str.extract('(\\(\\d\\d\\d\\d\\))',expand=False)\n",
    "movies_df.head(1)"
   ]
  },
  {
   "cell_type": "markdown",
   "metadata": {},
   "source": [
    "Extract year without parenthesis from year column"
   ]
  },
  {
   "cell_type": "code",
   "execution_count": 5,
   "metadata": {},
   "outputs": [
    {
     "data": {
      "text/html": [
       "<div>\n",
       "<style scoped>\n",
       "    .dataframe tbody tr th:only-of-type {\n",
       "        vertical-align: middle;\n",
       "    }\n",
       "\n",
       "    .dataframe tbody tr th {\n",
       "        vertical-align: top;\n",
       "    }\n",
       "\n",
       "    .dataframe thead th {\n",
       "        text-align: right;\n",
       "    }\n",
       "</style>\n",
       "<table border=\"1\" class=\"dataframe\">\n",
       "  <thead>\n",
       "    <tr style=\"text-align: right;\">\n",
       "      <th></th>\n",
       "      <th>movieId</th>\n",
       "      <th>title</th>\n",
       "      <th>genres</th>\n",
       "      <th>year</th>\n",
       "    </tr>\n",
       "  </thead>\n",
       "  <tbody>\n",
       "    <tr>\n",
       "      <th>0</th>\n",
       "      <td>1</td>\n",
       "      <td>Toy Story (1995)</td>\n",
       "      <td>Adventure|Animation|Children|Comedy|Fantasy</td>\n",
       "      <td>1995</td>\n",
       "    </tr>\n",
       "  </tbody>\n",
       "</table>\n",
       "</div>"
      ],
      "text/plain": [
       "   movieId             title                                       genres  \\\n",
       "0        1  Toy Story (1995)  Adventure|Animation|Children|Comedy|Fantasy   \n",
       "\n",
       "   year  \n",
       "0  1995  "
      ]
     },
     "execution_count": 5,
     "metadata": {},
     "output_type": "execute_result"
    }
   ],
   "source": [
    "movies_df['year'] = movies_df.year.str.extract('(\\d\\d\\d\\d)',expand=False)\n",
    "movies_df.head(1)"
   ]
  },
  {
   "cell_type": "markdown",
   "metadata": {},
   "source": [
    "removing year from title"
   ]
  },
  {
   "cell_type": "code",
   "execution_count": 6,
   "metadata": {},
   "outputs": [
    {
     "data": {
      "text/html": [
       "<div>\n",
       "<style scoped>\n",
       "    .dataframe tbody tr th:only-of-type {\n",
       "        vertical-align: middle;\n",
       "    }\n",
       "\n",
       "    .dataframe tbody tr th {\n",
       "        vertical-align: top;\n",
       "    }\n",
       "\n",
       "    .dataframe thead th {\n",
       "        text-align: right;\n",
       "    }\n",
       "</style>\n",
       "<table border=\"1\" class=\"dataframe\">\n",
       "  <thead>\n",
       "    <tr style=\"text-align: right;\">\n",
       "      <th></th>\n",
       "      <th>movieId</th>\n",
       "      <th>title</th>\n",
       "      <th>genres</th>\n",
       "      <th>year</th>\n",
       "    </tr>\n",
       "  </thead>\n",
       "  <tbody>\n",
       "    <tr>\n",
       "      <th>0</th>\n",
       "      <td>1</td>\n",
       "      <td>Toy Story</td>\n",
       "      <td>Adventure|Animation|Children|Comedy|Fantasy</td>\n",
       "      <td>1995</td>\n",
       "    </tr>\n",
       "  </tbody>\n",
       "</table>\n",
       "</div>"
      ],
      "text/plain": [
       "   movieId       title                                       genres  year\n",
       "0        1  Toy Story   Adventure|Animation|Children|Comedy|Fantasy  1995"
      ]
     },
     "execution_count": 6,
     "metadata": {},
     "output_type": "execute_result"
    }
   ],
   "source": [
    "movies_df['title'] = movies_df.title.str.replace('(\\(\\d\\d\\d\\d\\))','')\n",
    "movies_df.head(1)"
   ]
  },
  {
   "cell_type": "markdown",
   "metadata": {},
   "source": [
    "let's also split the values in the Genres column into a list of Genres to simplify future use. This can be achieved by applying Python's split string function on the correct column."
   ]
  },
  {
   "cell_type": "code",
   "execution_count": 7,
   "metadata": {},
   "outputs": [
    {
     "data": {
      "text/html": [
       "<div>\n",
       "<style scoped>\n",
       "    .dataframe tbody tr th:only-of-type {\n",
       "        vertical-align: middle;\n",
       "    }\n",
       "\n",
       "    .dataframe tbody tr th {\n",
       "        vertical-align: top;\n",
       "    }\n",
       "\n",
       "    .dataframe thead th {\n",
       "        text-align: right;\n",
       "    }\n",
       "</style>\n",
       "<table border=\"1\" class=\"dataframe\">\n",
       "  <thead>\n",
       "    <tr style=\"text-align: right;\">\n",
       "      <th></th>\n",
       "      <th>movieId</th>\n",
       "      <th>title</th>\n",
       "      <th>genres</th>\n",
       "      <th>year</th>\n",
       "    </tr>\n",
       "  </thead>\n",
       "  <tbody>\n",
       "    <tr>\n",
       "      <th>0</th>\n",
       "      <td>1</td>\n",
       "      <td>Toy Story</td>\n",
       "      <td>Adventure Animation Children Comedy Fantasy</td>\n",
       "      <td>1995</td>\n",
       "    </tr>\n",
       "  </tbody>\n",
       "</table>\n",
       "</div>"
      ],
      "text/plain": [
       "   movieId       title                                       genres  year\n",
       "0        1  Toy Story   Adventure Animation Children Comedy Fantasy  1995"
      ]
     },
     "execution_count": 7,
     "metadata": {},
     "output_type": "execute_result"
    }
   ],
   "source": [
    "movies_df['genres'] = movies_df.genres.str.replace('|',' ')\n",
    "movies_df.head(1)"
   ]
  },
  {
   "cell_type": "code",
   "execution_count": 8,
   "metadata": {},
   "outputs": [
    {
     "data": {
      "text/html": [
       "<div>\n",
       "<style scoped>\n",
       "    .dataframe tbody tr th:only-of-type {\n",
       "        vertical-align: middle;\n",
       "    }\n",
       "\n",
       "    .dataframe tbody tr th {\n",
       "        vertical-align: top;\n",
       "    }\n",
       "\n",
       "    .dataframe thead th {\n",
       "        text-align: right;\n",
       "    }\n",
       "</style>\n",
       "<table border=\"1\" class=\"dataframe\">\n",
       "  <thead>\n",
       "    <tr style=\"text-align: right;\">\n",
       "      <th></th>\n",
       "      <th>movieId</th>\n",
       "      <th>title</th>\n",
       "      <th>genres</th>\n",
       "      <th>year</th>\n",
       "    </tr>\n",
       "  </thead>\n",
       "  <tbody>\n",
       "    <tr>\n",
       "      <th>0</th>\n",
       "      <td>1</td>\n",
       "      <td>toy story</td>\n",
       "      <td>adventure animation children comedy fantasy</td>\n",
       "      <td>1995</td>\n",
       "    </tr>\n",
       "    <tr>\n",
       "      <th>1</th>\n",
       "      <td>2</td>\n",
       "      <td>jumanji</td>\n",
       "      <td>adventure children fantasy</td>\n",
       "      <td>1995</td>\n",
       "    </tr>\n",
       "  </tbody>\n",
       "</table>\n",
       "</div>"
      ],
      "text/plain": [
       "   movieId       title                                       genres  year\n",
       "0        1  toy story   adventure animation children comedy fantasy  1995\n",
       "1        2    jumanji                    adventure children fantasy  1995"
      ]
     },
     "execution_count": 8,
     "metadata": {},
     "output_type": "execute_result"
    }
   ],
   "source": [
    "movies_df['title'] = movies_df['title'].str.lower()\n",
    "movies_df['genres'] = movies_df['genres'].str.lower()\n",
    "movies_df.head(2)"
   ]
  },
  {
   "cell_type": "code",
   "execution_count": 9,
   "metadata": {},
   "outputs": [
    {
     "data": {
      "text/plain": [
       "'jumanji '"
      ]
     },
     "execution_count": 9,
     "metadata": {},
     "output_type": "execute_result"
    }
   ],
   "source": [
    "movies_df['title'][1]"
   ]
  },
  {
   "cell_type": "code",
   "execution_count": 10,
   "metadata": {},
   "outputs": [],
   "source": [
    "movies_df['title'] = movies_df['title'].apply(lambda x : x[:-1])"
   ]
  },
  {
   "cell_type": "code",
   "execution_count": 11,
   "metadata": {},
   "outputs": [
    {
     "data": {
      "text/plain": [
       "'jumanji'"
      ]
     },
     "execution_count": 11,
     "metadata": {},
     "output_type": "execute_result"
    }
   ],
   "source": [
    "movies_df['title'][1]"
   ]
  },
  {
   "cell_type": "code",
   "execution_count": 12,
   "metadata": {},
   "outputs": [
    {
     "data": {
      "text/plain": [
       "movieId     0\n",
       "title       0\n",
       "genres      0\n",
       "year       68\n",
       "dtype: int64"
      ]
     },
     "execution_count": 12,
     "metadata": {},
     "output_type": "execute_result"
    }
   ],
   "source": [
    "movies_df.isna().sum()"
   ]
  },
  {
   "cell_type": "code",
   "execution_count": 13,
   "metadata": {},
   "outputs": [],
   "source": [
    "movies_df = movies_df.dropna(how='any')"
   ]
  },
  {
   "cell_type": "code",
   "execution_count": 14,
   "metadata": {},
   "outputs": [
    {
     "data": {
      "text/plain": [
       "movieId    0\n",
       "title      0\n",
       "genres     0\n",
       "year       0\n",
       "dtype: int64"
      ]
     },
     "execution_count": 14,
     "metadata": {},
     "output_type": "execute_result"
    }
   ],
   "source": [
    "movies_df.isna().sum()"
   ]
  },
  {
   "cell_type": "code",
   "execution_count": 15,
   "metadata": {},
   "outputs": [],
   "source": [
    "movies_df['year'] = movies_df[\"year\"].astype(int)"
   ]
  },
  {
   "cell_type": "code",
   "execution_count": 16,
   "metadata": {},
   "outputs": [
    {
     "data": {
      "text/plain": [
       "1874    1\n",
       "Name: year, dtype: int64"
      ]
     },
     "execution_count": 16,
     "metadata": {},
     "output_type": "execute_result"
    }
   ],
   "source": [
    "movies_df['year'].value_counts().sort_index().head(1)"
   ]
  },
  {
   "cell_type": "code",
   "execution_count": 17,
   "metadata": {},
   "outputs": [
    {
     "data": {
      "text/plain": [
       "numpy.int64"
      ]
     },
     "execution_count": 17,
     "metadata": {},
     "output_type": "execute_result"
    }
   ],
   "source": [
    "mask = (movies_df['year'] > 2010)\n",
    "type(movies_df['year'][0])"
   ]
  },
  {
   "cell_type": "code",
   "execution_count": 18,
   "metadata": {},
   "outputs": [],
   "source": [
    "movies_df = movies_df.loc[mask].reset_index()"
   ]
  },
  {
   "cell_type": "code",
   "execution_count": 19,
   "metadata": {},
   "outputs": [
    {
     "data": {
      "text/html": [
       "<div>\n",
       "<style scoped>\n",
       "    .dataframe tbody tr th:only-of-type {\n",
       "        vertical-align: middle;\n",
       "    }\n",
       "\n",
       "    .dataframe tbody tr th {\n",
       "        vertical-align: top;\n",
       "    }\n",
       "\n",
       "    .dataframe thead th {\n",
       "        text-align: right;\n",
       "    }\n",
       "</style>\n",
       "<table border=\"1\" class=\"dataframe\">\n",
       "  <thead>\n",
       "    <tr style=\"text-align: right;\">\n",
       "      <th></th>\n",
       "      <th>index</th>\n",
       "      <th>movieId</th>\n",
       "      <th>title</th>\n",
       "      <th>genres</th>\n",
       "      <th>year</th>\n",
       "    </tr>\n",
       "  </thead>\n",
       "  <tbody>\n",
       "    <tr>\n",
       "      <th>6661</th>\n",
       "      <td>34202</td>\n",
       "      <td>151695</td>\n",
       "      <td>the survivalist</td>\n",
       "      <td>drama sci-fi thriller</td>\n",
       "      <td>2015</td>\n",
       "    </tr>\n",
       "    <tr>\n",
       "      <th>6662</th>\n",
       "      <td>34206</td>\n",
       "      <td>151709</td>\n",
       "      <td>zero</td>\n",
       "      <td>drama sci-fi</td>\n",
       "      <td>2015</td>\n",
       "    </tr>\n",
       "  </tbody>\n",
       "</table>\n",
       "</div>"
      ],
      "text/plain": [
       "      index  movieId            title                 genres  year\n",
       "6661  34202   151695  the survivalist  drama sci-fi thriller  2015\n",
       "6662  34206   151709             zero           drama sci-fi  2015"
      ]
     },
     "execution_count": 19,
     "metadata": {},
     "output_type": "execute_result"
    }
   ],
   "source": [
    "movies_df.tail(2)"
   ]
  },
  {
   "cell_type": "code",
   "execution_count": 20,
   "metadata": {},
   "outputs": [],
   "source": [
    "from sklearn.feature_extraction.text import CountVectorizer\n",
    "from sklearn.metrics.pairwise import cosine_similarity"
   ]
  },
  {
   "cell_type": "code",
   "execution_count": 21,
   "metadata": {},
   "outputs": [],
   "source": [
    "cv = CountVectorizer()\n",
    "count_matrix = cv.fit_transform(movies_df['genres'])\n",
    "similarity = cosine_similarity(count_matrix)"
   ]
  },
  {
   "cell_type": "code",
   "execution_count": 24,
   "metadata": {},
   "outputs": [],
   "source": [
    "def rcmd(m):\n",
    "    m = m.lower()\n",
    "    movies_df.head()\n",
    "    similarity.shape\n",
    "    \n",
    "    if m not in movies_df['title'].unique():\n",
    "        return('Sorry! The movie you requested is not in our database. Please check the spelling or try with some other movies')\n",
    "    else:\n",
    "        i = movies_df.loc[movies_df['title']==m].index[0]\n",
    "        print(i)\n",
    "        lst = list(enumerate(similarity[i]))\n",
    "        \n",
    "        lst = sorted(lst, key = lambda x:x[1] ,reverse=True)\n",
    "        lst = lst[1:11] # excluding first item since it is the requested movie itself\n",
    "        l = []\n",
    "        for i in range(len(lst)):\n",
    "            a = lst[i][0]\n",
    "            l.append(movies_df['title'][a])\n",
    "        return l"
   ]
  },
  {
   "cell_type": "code",
   "execution_count": 25,
   "metadata": {
    "tags": []
   },
   "outputs": [
    {
     "name": "stdout",
     "output_type": "stream",
     "text": [
      "3968\n"
     ]
    },
    {
     "data": {
      "text/plain": [
       "['mildred pierce',\n",
       " 'beaver, the',\n",
       " 'kid with a bike, the (le gamin au vélo)',\n",
       " 'tree of life, the',\n",
       " 'fly away',\n",
       " 'cinema verite',\n",
       " 'too big to fail',\n",
       " 'snow flower and the secret fan',\n",
       " 'cyberbully',\n",
       " 'help, the']"
      ]
     },
     "execution_count": 25,
     "metadata": {},
     "output_type": "execute_result"
    }
   ],
   "source": [
    "rcmd(\"Zero\")"
   ]
  },
  {
   "cell_type": "code",
   "execution_count": 27,
   "metadata": {},
   "outputs": [],
   "source": [
    "movies_df.to_csv('main_data.csv',index=False)\n"
   ]
  },
  {
   "cell_type": "markdown",
   "metadata": {},
   "source": [
    "# tutorial\n",
    "https://johannesbader.ch/blog/tutorial-download-posters-with-the-movie-database-api-in-python/"
   ]
  },
  {
   "cell_type": "code",
   "execution_count": 51,
   "metadata": {},
   "outputs": [],
   "source": [
    "import requests as rq\n",
    "import json\n",
    "\n",
    "title = \"Mulan\"\n",
    "\n",
    "p= 'https://api.themoviedb.org/3/search/movie?api_key=41f7cc5e1134d127a09413c900d5f199'\n",
    "# json.loads(rq.get(url))"
   ]
  },
  {
   "cell_type": "code",
   "execution_count": 52,
   "metadata": {},
   "outputs": [],
   "source": [
    "import requests \n",
    "  \n",
    "# api-endpoint \n",
    "URL = p\n",
    "  \n",
    "# location given here \n",
    "location = title\n",
    "  \n",
    "# defining a params dict for the parameters to be sent to the API \n",
    "PARAMS = {'query':location} \n",
    "  \n",
    "# sending get request and saving the response as response object \n",
    "r = requests.get(url = URL, params = PARAMS) \n",
    "  \n",
    "# extracting data in json format \n",
    "config = r.json() "
   ]
  },
  {
   "cell_type": "code",
   "execution_count": null,
   "metadata": {},
   "outputs": [],
   "source": []
  },
  {
   "cell_type": "code",
   "execution_count": 53,
   "metadata": {},
   "outputs": [
    {
     "data": {
      "text/plain": [
       "{'page': 1,\n",
       " 'total_results': 31,\n",
       " 'total_pages': 2,\n",
       " 'results': [{'popularity': 1233.463,\n",
       "   'vote_count': 2489,\n",
       "   'video': False,\n",
       "   'poster_path': '/aKx1ARwG55zZ0GpRvU2WrGrCG9o.jpg',\n",
       "   'id': 337401,\n",
       "   'adult': False,\n",
       "   'backdrop_path': '/zzWGRw277MNoCs3zhyG3YmYQsXv.jpg',\n",
       "   'original_language': 'en',\n",
       "   'original_title': 'Mulan',\n",
       "   'genre_ids': [28, 12, 18, 14],\n",
       "   'title': 'Mulan',\n",
       "   'vote_average': 7.3,\n",
       "   'overview': 'When the Emperor of China issues a decree that one man per family must serve in the Imperial Chinese Army to defend the country from Huns, Hua Mulan, the eldest daughter of an honored warrior, steps in to take the place of her ailing father. She is spirited, determined and quick on her feet. Disguised as a man by the name of Hua Jun, she is tested every step of the way and must harness her innermost strength and embrace her true potential.',\n",
       "   'release_date': '2020-09-04'},\n",
       "  {'popularity': 82.694,\n",
       "   'vote_count': 6614,\n",
       "   'video': False,\n",
       "   'poster_path': '/xCVcnQ2fm77vm7vFjTcrWGjz1Wb.jpg',\n",
       "   'id': 10674,\n",
       "   'adult': False,\n",
       "   'backdrop_path': '/mUYV0ZdsDEliGaQahcQH1F3grsP.jpg',\n",
       "   'original_language': 'en',\n",
       "   'original_title': 'Mulan',\n",
       "   'genre_ids': [12, 16, 10751],\n",
       "   'title': 'Mulan',\n",
       "   'vote_average': 7.9,\n",
       "   'overview': 'A tomboyish girl disguises herself as a young man so she can fight with the Imperial Chinese Army against the invading Huns. With help from wise-cracking dragon Mushu, Mulan just might save her country -- and win the heart of handsome Captain Li Shang.',\n",
       "   'release_date': '1998-06-18'},\n",
       "  {'popularity': 56.757,\n",
       "   'vote_count': 1613,\n",
       "   'video': False,\n",
       "   'poster_path': '/8cUIHYXpDFYX6r5ZviQuRKCVLJ2.jpg',\n",
       "   'id': 12242,\n",
       "   'adult': False,\n",
       "   'backdrop_path': '/2Zv86BI4QqztR19fwFErXyr59h.jpg',\n",
       "   'original_language': 'en',\n",
       "   'original_title': 'Mulan II',\n",
       "   'genre_ids': [28, 16, 35, 10751],\n",
       "   'title': 'Mulan II',\n",
       "   'vote_average': 6.5,\n",
       "   'overview': \"Fa Mulan gets the surprise of her young life when her love, Captain Li Shang asks for her hand in marriage. Before the two can have their happily ever after, the Emperor assigns them a secret mission, to escort three princesses to Chang'an, China. Mushu is determined to drive a wedge between the couple after he learns that he will lose his guardian job if Mulan marries into the Li family.\",\n",
       "   'release_date': '2004-11-03'},\n",
       "  {'popularity': 0.84,\n",
       "   'genre_ids': [],\n",
       "   'video': False,\n",
       "   'vote_count': 0,\n",
       "   'original_language': 'en',\n",
       "   'adult': False,\n",
       "   'title': 'Mulan',\n",
       "   'original_title': 'Mulan',\n",
       "   'backdrop_path': None,\n",
       "   'id': 526004,\n",
       "   'vote_average': 0,\n",
       "   'overview': '',\n",
       "   'poster_path': None},\n",
       "  {'popularity': 1.29,\n",
       "   'id': 489458,\n",
       "   'video': False,\n",
       "   'vote_count': 0,\n",
       "   'vote_average': 0,\n",
       "   'title': 'Mulan Joins the Army',\n",
       "   'release_date': '1927-01-01',\n",
       "   'original_language': 'zh',\n",
       "   'original_title': 'Hua Mulan Cong Jun',\n",
       "   'genre_ids': [],\n",
       "   'backdrop_path': None,\n",
       "   'adult': False,\n",
       "   'overview': 'A silent film based on the legend of Hua Mulan, released by Tianyi Film Company and directed by Li Pingqian. This silent film holds the distinction of being the first ever full-length feature film about Hua Mulan. Mulan is betrothed to a young man when war arrives and their wedding ceremony has to be put on hold. As her fiancé enlists in the army, so too does the filial Mulan, disguised as a man in place of her ailing father. These new plot twists lead to comedic moments when Mulan encounters her fiancé during training and he does not recognize her.',\n",
       "   'poster_path': '/iyYYnxtacf4xcFVrDQy2hvPecfA.jpg'},\n",
       "  {'popularity': 0.983,\n",
       "   'vote_count': 0,\n",
       "   'video': False,\n",
       "   'poster_path': '/dweTN7V4mavJX1hhwPs0BFEoknS.jpg',\n",
       "   'id': 738585,\n",
       "   'adult': False,\n",
       "   'backdrop_path': None,\n",
       "   'original_language': 'en',\n",
       "   'original_title': 'Hua Mulan',\n",
       "   'genre_ids': [],\n",
       "   'title': 'Hua Mulan',\n",
       "   'vote_average': 0,\n",
       "   'overview': \"This animated feature retells the great legend of the Chinese heroine better known as Hua Mulan -the daughter of an ill, bed-ridden General. Hua Mulan will wage several triumphant battles in her father's name before finally winning the war and meeting the love of her life, who will in turn discover her to be a very beautiful girl.\",\n",
       "   'release_date': '1998-11-11'},\n",
       "  {'popularity': 1.579,\n",
       "   'vote_count': 2,\n",
       "   'video': False,\n",
       "   'poster_path': None,\n",
       "   'id': 209894,\n",
       "   'adult': False,\n",
       "   'backdrop_path': None,\n",
       "   'original_language': 'en',\n",
       "   'original_title': 'The Secret of Mulan',\n",
       "   'genre_ids': [12, 16, 10751],\n",
       "   'title': 'The Secret of Mulan',\n",
       "   'vote_average': 2.5,\n",
       "   'overview': 'The story of Mulan told in the world of insects.',\n",
       "   'release_date': '1998-01-01'},\n",
       "  {'popularity': 0.84,\n",
       "   'id': 439207,\n",
       "   'video': True,\n",
       "   'vote_count': 1,\n",
       "   'vote_average': 1,\n",
       "   'title': 'Mulan: 15th Anniversary - The Voices of Mulan II',\n",
       "   'release_date': '2013-03-12',\n",
       "   'original_language': 'en',\n",
       "   'original_title': 'Mulan: 15th Anniversary - The Voices of Mulan II',\n",
       "   'genre_ids': [],\n",
       "   'backdrop_path': None,\n",
       "   'adult': False,\n",
       "   'overview': \"Mushu the Dragon takes a quick look behind the scenes of Mulan's recording sessions, with interviews from several cast members.\",\n",
       "   'poster_path': None},\n",
       "  {'popularity': 0.6,\n",
       "   'id': 404233,\n",
       "   'video': False,\n",
       "   'vote_count': 0,\n",
       "   'vote_average': 0,\n",
       "   'title': 'Saga of Mulan',\n",
       "   'release_date': '1994-01-01',\n",
       "   'original_language': 'zh',\n",
       "   'original_title': 'Hua Mulan chuan qi',\n",
       "   'genre_ids': [],\n",
       "   'backdrop_path': None,\n",
       "   'adult': False,\n",
       "   'overview': \"A retelling of the legend of Hua Mulan, warrior woman of China, who disguised herself as a boy to serve in the army in her frail father's place.\",\n",
       "   'poster_path': '/5fSkmuMOWMSqcxaorUToYaFhiXI.jpg'},\n",
       "  {'popularity': 1.091,\n",
       "   'vote_count': 0,\n",
       "   'video': False,\n",
       "   'poster_path': '/3Z9HCNedqDpiNmMCpGbJKqgZMNk.jpg',\n",
       "   'id': 555335,\n",
       "   'adult': False,\n",
       "   'backdrop_path': None,\n",
       "   'original_language': 'en',\n",
       "   'original_title': 'The Legend of Mulan',\n",
       "   'genre_ids': [12, 16, 10751],\n",
       "   'title': 'The Legend of Mulan',\n",
       "   'vote_average': 0,\n",
       "   'overview': 'A Chinese girl must become a warrior to fight a war and to save her village by convincing a dragon to melt the snows. She must overcome the trials of the four elements, with the help of a medallion and some magical friends.',\n",
       "   'release_date': '1998-01-01'},\n",
       "  {'popularity': 2.134,\n",
       "   'id': 608113,\n",
       "   'video': False,\n",
       "   'vote_count': 1,\n",
       "   'vote_average': 10,\n",
       "   'title': \"Reflections on Ice: Michelle Kwan Skates to the Music of Disney's 'Mulan'\",\n",
       "   'release_date': '1998-06-16',\n",
       "   'original_language': 'en',\n",
       "   'original_title': \"Reflections on Ice: Michelle Kwan Skates to the Music of Disney's 'Mulan'\",\n",
       "   'genre_ids': [10751, 10402],\n",
       "   'backdrop_path': None,\n",
       "   'adult': False,\n",
       "   'overview': \"A retelling of the Disney film, 'Mulan (1998)', using animated clips and songs from the film, but this version was staged on ice.\",\n",
       "   'poster_path': '/z4zxoT2AJ4TpAY9G9s8xC0b57eb.jpg'},\n",
       "  {'popularity': 11.268,\n",
       "   'vote_count': 280,\n",
       "   'video': False,\n",
       "   'poster_path': '/cnaoBXyHN1RCXbQ2TVA7U1dt2TG.jpg',\n",
       "   'id': 32909,\n",
       "   'adult': False,\n",
       "   'backdrop_path': '/wR9NahPRws9jA96rr6X3flpFveM.jpg',\n",
       "   'original_language': 'zh',\n",
       "   'original_title': '花木兰',\n",
       "   'genre_ids': [28, 12, 18],\n",
       "   'title': 'Mulan: Rise of a Warrior',\n",
       "   'vote_average': 7.5,\n",
       "   'overview': \"When barbarian hordes threaten her homeland, the brave and cunning Mulan disguises herself as a male soldier to swell the ranks in her aging father's stead. The warrior's remarkable courage drives her through powerful battle scenes and brutal wartime strategy. Mulan loses dear friends to the enemy's blade as she rises to become one of her country's most valuable leaders — but can she win the war before her secret is exposed?\",\n",
       "   'release_date': '2009-11-26'},\n",
       "  {'popularity': 7.388,\n",
       "   'vote_count': 2,\n",
       "   'video': False,\n",
       "   'poster_path': '/daTRolhedcf3LQ1C0D6hPRJwClR.jpg',\n",
       "   'id': 736168,\n",
       "   'adult': False,\n",
       "   'backdrop_path': None,\n",
       "   'original_language': 'zh',\n",
       "   'original_title': '花木兰之大漠营救',\n",
       "   'genre_ids': [28, 10749],\n",
       "   'title': 'Mulan Legend',\n",
       "   'vote_average': 4.5,\n",
       "   'overview': 'During the reign of the Northern Wei Dynasty, the new emperor was still unstable, and the nomadic tribe, Ruo Ran, was eyeing Wei. In order to restrain her, the princess made peace with Northern Liang, but was unexpectedly kidnapped by her fierce general, Mian Ertu. However, the princess is taken hostage by Mian Ertu, who proposes a humiliating pact to surrender ten cities to Wei. With the deadline of two days to cede the city and land approaching, whether the raiding team will be able to rescue the princess and protect the Wei Dynasty',\n",
       "   'release_date': '2020-08-23'},\n",
       "  {'popularity': 6.153,\n",
       "   'vote_count': 1,\n",
       "   'video': False,\n",
       "   'poster_path': '/qxZQ8LnexyZXwGcJb1z4n7P4Iyd.jpg',\n",
       "   'id': 694228,\n",
       "   'adult': False,\n",
       "   'backdrop_path': '/h8AElaeuUBb6CvGjObVCusqclnR.jpg',\n",
       "   'original_language': 'zh',\n",
       "   'original_title': '木兰之巾帼英豪',\n",
       "   'genre_ids': [28, 36, 10752],\n",
       "   'title': 'Unparalleled Mulan',\n",
       "   'vote_average': 1,\n",
       "   'overview': \"During the Northern Wei Dynasty, Mulan joined the army for his father and returned with honor. Ten years later, Rouran broke the border again, and Mulan resolutely returned to the battlefield. To save Tuoba, Mulan fell into the enemy. In prison, Mulan saw through Kunpeng's tricks. Kunpeng killed Khan and blamed Mulan. Mulan battled Kunpeng to protect innocent people. The princess pointed out that the real murderer was Kunpeng. Kunpeng was killed in the melee. The chaos subsided. This film celebrates peace and national harmony, and shows that Mulan, as a woman, does not abandon her compatriots, does not abandon her country, and constantly strives for the outstanding quality and family feelings.\",\n",
       "   'release_date': '2020-04-17'},\n",
       "  {'popularity': 5.158,\n",
       "   'id': 752662,\n",
       "   'video': False,\n",
       "   'vote_count': 0,\n",
       "   'vote_average': 0,\n",
       "   'title': 'Hua Mulan',\n",
       "   'release_date': '2020-09-09',\n",
       "   'original_language': 'zh',\n",
       "   'original_title': '花木兰',\n",
       "   'genre_ids': [],\n",
       "   'backdrop_path': None,\n",
       "   'adult': False,\n",
       "   'overview': 'The movie \"Hua Mulan\" was jointly produced by Zhenle Media and Tianyu Media.',\n",
       "   'poster_path': '/s5CnGT58WWE5mz5cQ4zBfv1HT0J.jpg'},\n",
       "  {'popularity': 4.457,\n",
       "   'vote_count': 0,\n",
       "   'video': False,\n",
       "   'poster_path': '/p6CppgOnIXtpG7TI5SuNv5QQHbo.jpg',\n",
       "   'id': 664345,\n",
       "   'adult': False,\n",
       "   'backdrop_path': '/tXswWJAnuwTcoqAguOLVvfAMEAh.jpg',\n",
       "   'original_language': 'zh',\n",
       "   'original_title': '木兰：横空出世',\n",
       "   'genre_ids': [28, 12, 16, 18, 14, 10751],\n",
       "   'title': 'Kung Fu Mulan',\n",
       "   'vote_average': 0,\n",
       "   'overview': 'Mulan grew up in a martial arts family, has a dream to become a female warrior in the Kingdom. By forced to join the army in her father’s stead, she finds a way to express herself. However, during a mission that she was supposed to assassinate the Crown prince of a hostile kingdom, she never knows that this decision changed her life entirely. They fell in love. From then on, she has a new goal, not to fight for her achievement but to bring peace for the people of both countries. In the end, she triumphed over the villain and also understood the true meaning of being a warrior.',\n",
       "   'release_date': '2020-10-01'},\n",
       "  {'popularity': 3.675,\n",
       "   'id': 701956,\n",
       "   'video': False,\n",
       "   'vote_count': 2,\n",
       "   'vote_average': 8,\n",
       "   'title': 'Matchless Mulan',\n",
       "   'release_date': '2020-05-07',\n",
       "   'original_language': 'zh',\n",
       "   'original_title': '无双花木兰',\n",
       "   'genre_ids': [36, 10752],\n",
       "   'backdrop_path': '/97AkDr47iiexN0iCTUzKt0lmiH1.jpg',\n",
       "   'adult': False,\n",
       "   'overview': 'During the Northern Wei Dynasty, Mulan joined the army for his father and returned with honor. Ten years later, Rouran broke the border again, and Mulan resolutely returned to the battlefield.',\n",
       "   'poster_path': '/vaH8OYaezFH9NmP2NiJygRdTQkq.jpg'},\n",
       "  {'popularity': 6.495,\n",
       "   'vote_count': 52,\n",
       "   'video': False,\n",
       "   'poster_path': '/rP8knLNDHN6VlUi89nWuqaWUdoo.jpg',\n",
       "   'id': 650073,\n",
       "   'adult': False,\n",
       "   'backdrop_path': '/9O4qARYvsuCVTtw8ybLIQNTywTO.jpg',\n",
       "   'original_language': 'en',\n",
       "   'original_title': 'John Mulaney & The Sack Lunch Bunch',\n",
       "   'genre_ids': [35, 10751],\n",
       "   'title': 'John Mulaney & The Sack Lunch Bunch',\n",
       "   'vote_average': 7.1,\n",
       "   'overview': 'John Mulaney and his kid pals tackle existential topics for all ages with catchy songs, comedy sketches and special guests in a nostalgic variety special.',\n",
       "   'release_date': '2019-12-24'},\n",
       "  {'popularity': 3.236,\n",
       "   'vote_count': 2,\n",
       "   'video': False,\n",
       "   'poster_path': '/y1CrkHMSl2rsL8JU4k5bhCiR9Qn.jpg',\n",
       "   'id': 221166,\n",
       "   'adult': False,\n",
       "   'backdrop_path': '/4DnOkGqUfxB8mWPjcgQVhpm3hLt.jpg',\n",
       "   'original_language': 'zh',\n",
       "   'original_title': '花木蘭',\n",
       "   'genre_ids': [28, 18, 10402],\n",
       "   'title': 'Lady General Hua Mulan',\n",
       "   'vote_average': 5.8,\n",
       "   'overview': \"About a woman who disguises herself as a man to take her father's place in the army.\",\n",
       "   'release_date': '1964-06-15'},\n",
       "  {'popularity': 6.706,\n",
       "   'vote_count': 112,\n",
       "   'video': False,\n",
       "   'poster_path': '/ufE8KAkLQT9u91AgDSc5Oxa3DjW.jpg',\n",
       "   'id': 86705,\n",
       "   'adult': False,\n",
       "   'backdrop_path': '/1DQUhxqRUw3yEPDLJE3zL0FYbEp.jpg',\n",
       "   'original_language': 'en',\n",
       "   'original_title': 'John Mulaney: New in Town',\n",
       "   'genre_ids': [35, 99],\n",
       "   'title': 'John Mulaney: New in Town',\n",
       "   'vote_average': 8.3,\n",
       "   'overview': 'Stand-up comedian John Mulaney tackles such red-hot topics as quicksand, Motown singers and an elderly man he once met in a bathroom.',\n",
       "   'release_date': '2012-01-31'}]}"
      ]
     },
     "execution_count": 53,
     "metadata": {},
     "output_type": "execute_result"
    }
   ],
   "source": [
    "config"
   ]
  },
  {
   "cell_type": "code",
   "execution_count": 37,
   "metadata": {},
   "outputs": [
    {
     "data": {
      "text/plain": [
       "'/aKx1ARwG55zZ0GpRvU2WrGrCG9o.jpg'"
      ]
     },
     "execution_count": 37,
     "metadata": {},
     "output_type": "execute_result"
    }
   ],
   "source": [
    "poster_path = config['results'][0]['poster_path']\n",
    "poster_path"
   ]
  },
  {
   "cell_type": "code",
   "execution_count": 55,
   "metadata": {},
   "outputs": [
    {
     "data": {
      "text/plain": [
       "337401"
      ]
     },
     "execution_count": 55,
     "metadata": {},
     "output_type": "execute_result"
    }
   ],
   "source": [
    "config['results'][0]['id']"
   ]
  },
  {
   "cell_type": "code",
   "execution_count": 26,
   "metadata": {},
   "outputs": [
    {
     "data": {
      "text/plain": [
       "'https://image.tmdb.org/t/p/original/aKx1ARwG55zZ0GpRvU2WrGrCG9o.jpg'"
      ]
     },
     "execution_count": 26,
     "metadata": {},
     "output_type": "execute_result"
    }
   ],
   "source": [
    "url = 'https://image.tmdb.org/t/p/original'+ poster_path\n",
    "url https://image.tmdb.org/t/p/original/cL6JccAYqiZQEAIEFObEUC9LTt7.jpg"
   ]
  },
  {
   "cell_type": "code",
   "execution_count": null,
   "metadata": {},
   "outputs": [],
   "source": []
  },
  {
   "cell_type": "code",
   "execution_count": 7,
   "metadata": {},
   "outputs": [],
   "source": [
    "import requests\n",
    "CONFIG_PATTERN = 'http://api.themoviedb.org/3/configuration?api_key={key}'\n",
    "KEY = '41f7cc5e1134d127a09413c900d5f199'\n",
    "\n",
    "url = CONFIG_PATTERN.format(key=KEY)\n",
    "r = requests.get(url)\n",
    "config = r.json()"
   ]
  },
  {
   "cell_type": "code",
   "execution_count": null,
   "metadata": {},
   "outputs": [],
   "source": []
  },
  {
   "cell_type": "code",
   "execution_count": null,
   "metadata": {},
   "outputs": [],
   "source": []
  },
  {
   "cell_type": "code",
   "execution_count": null,
   "metadata": {},
   "outputs": [],
   "source": []
  },
  {
   "cell_type": "code",
   "execution_count": 11,
   "metadata": {},
   "outputs": [],
   "source": [
    "base_url = config['images']['base_url']\n",
    "sizes = config['images']['poster_sizes']\n",
    "\"\"\"\n",
    "    'sizes' should be sorted in ascending order, so\n",
    "        max_size = sizes[-1]\n",
    "    should get the largest size as well.        \n",
    "\"\"\"\n",
    "def size_str_to_int(x):\n",
    "    return float(\"inf\") if x == 'original' else int(x[1:])\n",
    "max_size = max(sizes, key=size_str_to_int)"
   ]
  },
  {
   "cell_type": "code",
   "execution_count": 1,
   "metadata": {},
   "outputs": [],
   "source": [
    "url = 'http://d3gtl9l2a4fn1j.cloudfront.net/t/p/original/mc7MubOLcIw3MDvnuQFrO9psfCa.jpg'"
   ]
  },
  {
   "cell_type": "code",
   "execution_count": 57,
   "metadata": {},
   "outputs": [],
   "source": [
    "movie_id = str(config['results'][0]['id'])\n",
    "p = 'https://api.themoviedb.org/3/movie/'+movie_id+'?api_key=41f7cc5e1134d127a09413c900d5f199'"
   ]
  },
  {
   "cell_type": "code",
   "execution_count": 59,
   "metadata": {},
   "outputs": [],
   "source": [
    "r = requests.get(url = p) \n",
    "con = r.json() "
   ]
  },
  {
   "cell_type": "code",
   "execution_count": 60,
   "metadata": {},
   "outputs": [
    {
     "data": {
      "text/plain": [
       "{'adult': False,\n",
       " 'backdrop_path': '/zzWGRw277MNoCs3zhyG3YmYQsXv.jpg',\n",
       " 'belongs_to_collection': None,\n",
       " 'budget': 200000000,\n",
       " 'genres': [{'id': 28, 'name': 'Action'},\n",
       "  {'id': 12, 'name': 'Adventure'},\n",
       "  {'id': 18, 'name': 'Drama'},\n",
       "  {'id': 14, 'name': 'Fantasy'}],\n",
       " 'homepage': 'https://movies.disney.com/mulan-2020d',\n",
       " 'id': 337401,\n",
       " 'imdb_id': 'tt4566758',\n",
       " 'original_language': 'en',\n",
       " 'original_title': 'Mulan',\n",
       " 'overview': 'When the Emperor of China issues a decree that one man per family must serve in the Imperial Chinese Army to defend the country from Huns, Hua Mulan, the eldest daughter of an honored warrior, steps in to take the place of her ailing father. She is spirited, determined and quick on her feet. Disguised as a man by the name of Hua Jun, she is tested every step of the way and must harness her innermost strength and embrace her true potential.',\n",
       " 'popularity': 1233.463,\n",
       " 'poster_path': '/aKx1ARwG55zZ0GpRvU2WrGrCG9o.jpg',\n",
       " 'production_companies': [{'id': 2,\n",
       "   'logo_path': '/wdrCwmRnLFJhEoH8GSfymY85KHT.png',\n",
       "   'name': 'Walt Disney Pictures',\n",
       "   'origin_country': 'US'},\n",
       "  {'id': 14714,\n",
       "   'logo_path': '/oQHaOZEnPzlJACVTisV0FICrS82.png',\n",
       "   'name': 'China Film Group Corporation',\n",
       "   'origin_country': 'CN'},\n",
       "  {'id': 103698,\n",
       "   'logo_path': '/qS01bSMe274ecTdrgyO3BBvzfKK.png',\n",
       "   'name': 'Good Fear',\n",
       "   'origin_country': 'US'},\n",
       "  {'id': 89254,\n",
       "   'logo_path': None,\n",
       "   'name': 'Jason T. Reed Productions',\n",
       "   'origin_country': 'US'},\n",
       "  {'id': 20193,\n",
       "   'logo_path': '/oz1p4QkoNONJZ3JT6BF6Jj4Nw2l.png',\n",
       "   'name': 'The Walt Disney Company',\n",
       "   'origin_country': 'US'},\n",
       "  {'id': 3166,\n",
       "   'logo_path': '/vyyv4Gy9nPqAZKElPm2izLlEaVS.png',\n",
       "   'name': 'Walt Disney Productions',\n",
       "   'origin_country': 'US'}],\n",
       " 'production_countries': [{'iso_3166_1': 'CN', 'name': 'China'},\n",
       "  {'iso_3166_1': 'US', 'name': 'United States of America'}],\n",
       " 'release_date': '2020-09-04',\n",
       " 'revenue': 57000000,\n",
       " 'runtime': 115,\n",
       " 'spoken_languages': [{'iso_639_1': 'en', 'name': 'English'}],\n",
       " 'status': 'Released',\n",
       " 'tagline': '',\n",
       " 'title': 'Mulan',\n",
       " 'video': False,\n",
       " 'vote_average': 7.3,\n",
       " 'vote_count': 2496}"
      ]
     },
     "execution_count": 60,
     "metadata": {},
     "output_type": "execute_result"
    }
   ],
   "source": [
    "con"
   ]
  },
  {
   "cell_type": "code",
   "execution_count": 69,
   "metadata": {},
   "outputs": [],
   "source": [
    "p = ''\n",
    "for i in con['genres']:\n",
    "    p += i['name']+\",\""
   ]
  },
  {
   "cell_type": "code",
   "execution_count": 70,
   "metadata": {},
   "outputs": [
    {
     "data": {
      "text/plain": [
       "'Action,Adventure,Drama,Fantasy,'"
      ]
     },
     "execution_count": 70,
     "metadata": {},
     "output_type": "execute_result"
    }
   ],
   "source": [
    "p"
   ]
  },
  {
   "cell_type": "code",
   "execution_count": 78,
   "metadata": {},
   "outputs": [
    {
     "data": {
      "text/plain": [
       "'1h 55m'"
      ]
     },
     "execution_count": 78,
     "metadata": {},
     "output_type": "execute_result"
    }
   ],
   "source": [
    "str(con['runtime']//60) +'h '+ str(con['runtime']%60 )+'m'"
   ]
  },
  {
   "cell_type": "code",
   "execution_count": 84,
   "metadata": {},
   "outputs": [],
   "source": [
    "# p = 'http://api.themoviedb.org/3/movie/157336/videos?api_key=###' \n",
    "p = 'https://api.themoviedb.org/3/movie/'+movie_id+'/credits?api_key=41f7cc5e1134d127a09413c900d5f199'\n",
    "# https://api.themoviedb.org/3/movie/\"+movie_id+\"/credits?api_key=\"+my_api_key\n",
    "r = requests.get(url = p) \n",
    "con = r.json() "
   ]
  },
  {
   "cell_type": "code",
   "execution_count": 85,
   "metadata": {},
   "outputs": [
    {
     "data": {
      "text/plain": [
       "{'id': 337401,\n",
       " 'cast': [{'cast_id': 12,\n",
       "   'character': 'Hua Mulan',\n",
       "   'credit_id': '5a1f27efc3a3680b930821c6',\n",
       "   'gender': 1,\n",
       "   'id': 122503,\n",
       "   'name': 'Liu Yifei',\n",
       "   'order': 0,\n",
       "   'profile_path': '/cL6JccAYqiZQEAIEFObEUC9LTt7.jpg'},\n",
       "  {'cast_id': 15,\n",
       "   'character': 'The Emperor',\n",
       "   'credit_id': '5acfa5ef9251413b39001d5c',\n",
       "   'gender': 2,\n",
       "   'id': 1336,\n",
       "   'name': 'Jet Li',\n",
       "   'order': 2,\n",
       "   'profile_path': '/5a6u17dAf11kLvdRUG6QdoRRURj.jpg'},\n",
       "  {'cast_id': 30,\n",
       "   'character': 'Hua Zhou',\n",
       "   'credit_id': '5da06cc6ae3668001f209176',\n",
       "   'gender': 2,\n",
       "   'id': 21629,\n",
       "   'name': 'Tzi Ma',\n",
       "   'order': 3,\n",
       "   'profile_path': '/x4fz0LCIiBNGdil3nBYO22W7QJ0.jpg'},\n",
       "  {'cast_id': 13,\n",
       "   'character': 'Commander Tung',\n",
       "   'credit_id': '5ace9f2d0e0a267f9a02e73e',\n",
       "   'gender': 2,\n",
       "   'id': 1341,\n",
       "   'name': 'Donnie Yen',\n",
       "   'order': 4,\n",
       "   'profile_path': '/hTlhrrZMj8hZVvD17j4KyAFWBHc.jpg'},\n",
       "  {'cast_id': 14,\n",
       "   'character': 'Xian Niang',\n",
       "   'credit_id': '5acfa5ddc3a368738e0020ff',\n",
       "   'gender': 1,\n",
       "   'id': 643,\n",
       "   'name': 'Gong Li',\n",
       "   'order': 5,\n",
       "   'profile_path': '/uP3Fs3QUsGBxhNqGFWMnN1Z2l8z.jpg'},\n",
       "  {'cast_id': 22,\n",
       "   'character': 'Böri Khan',\n",
       "   'credit_id': '5b5a32b7c3a3686c140042d9',\n",
       "   'gender': 2,\n",
       "   'id': 58319,\n",
       "   'name': 'Jason Scott Lee',\n",
       "   'order': 6,\n",
       "   'profile_path': '/7jObZCM3diuPV0WlKkzOd4uE2CJ.jpg'},\n",
       "  {'cast_id': 35,\n",
       "   'character': 'Chen Honghui',\n",
       "   'credit_id': '5e3a883743250f0019c71c40',\n",
       "   'gender': 0,\n",
       "   'id': 1305610,\n",
       "   'name': 'Yoson An',\n",
       "   'order': 7,\n",
       "   'profile_path': '/2hYX4VOpJEGzaOrS9xwe8qPkKJQ.jpg'},\n",
       "  {'cast_id': 29,\n",
       "   'character': 'Hua Li',\n",
       "   'credit_id': '5da06cb54a2226001fe0c2dc',\n",
       "   'gender': 1,\n",
       "   'id': 74073,\n",
       "   'name': 'Rosalind Chao',\n",
       "   'order': 8,\n",
       "   'profile_path': '/ejUMD59T6txpKmNqIBroXBjyDHx.jpg'},\n",
       "  {'cast_id': 33,\n",
       "   'character': 'The Matchmaker',\n",
       "   'credit_id': '5da06d694a2226002be0de84',\n",
       "   'gender': 1,\n",
       "   'id': 1624,\n",
       "   'name': 'Cheng Pei-Pei',\n",
       "   'order': 9,\n",
       "   'profile_path': '/l8ZFuYjqJpwqYFcHJHEKCNFkdx.jpg'},\n",
       "  {'cast_id': 20,\n",
       "   'character': 'Sergeant Qiang',\n",
       "   'credit_id': '5b05d68ec3a3684c9b0043a7',\n",
       "   'gender': 2,\n",
       "   'id': 61703,\n",
       "   'name': 'Ron Yuan',\n",
       "   'order': 10,\n",
       "   'profile_path': '/7Co2MdR8T5zlXTrdZ9Z3qjlmKdV.jpg'},\n",
       "  {'cast_id': 34,\n",
       "   'character': 'Yao',\n",
       "   'credit_id': '5da06d91e54d5d001182a3b6',\n",
       "   'gender': 0,\n",
       "   'id': 1381726,\n",
       "   'name': 'Chen Tang',\n",
       "   'order': 11,\n",
       "   'profile_path': None},\n",
       "  {'cast_id': 48,\n",
       "   'character': 'Cricket',\n",
       "   'credit_id': '5f53dcdc848eb900375edf7c',\n",
       "   'gender': 0,\n",
       "   'id': 2766946,\n",
       "   'name': 'Jun Yu',\n",
       "   'order': 12,\n",
       "   'profile_path': None},\n",
       "  {'cast_id': 25,\n",
       "   'character': 'Po',\n",
       "   'credit_id': '5b7663c09251411d9101e451',\n",
       "   'gender': 0,\n",
       "   'id': 74304,\n",
       "   'name': 'Doua Moua',\n",
       "   'order': 13,\n",
       "   'profile_path': None},\n",
       "  {'cast_id': 24,\n",
       "   'character': 'Ling',\n",
       "   'credit_id': '5b7663a09251411d8e01e9d5',\n",
       "   'gender': 2,\n",
       "   'id': 447244,\n",
       "   'name': 'Jimmy Wong',\n",
       "   'order': 14,\n",
       "   'profile_path': '/hKdinRUFu5aladr38gbKQ7Cyz1q.jpg'},\n",
       "  {'cast_id': 47,\n",
       "   'character': 'Esteemed Guest',\n",
       "   'credit_id': '5f525c4dec18790038f87c92',\n",
       "   'gender': 1,\n",
       "   'id': 21702,\n",
       "   'name': 'Ming-Na Wen',\n",
       "   'order': 15,\n",
       "   'profile_path': '/eX7U4rXvXNsscog43qF02cPHUWI.jpg'},\n",
       "  {'cast_id': 31,\n",
       "   'character': 'The Chancellor',\n",
       "   'credit_id': '5da06d124a2226001fe0c430',\n",
       "   'gender': 2,\n",
       "   'id': 109019,\n",
       "   'name': 'Nelson Lee',\n",
       "   'order': 16,\n",
       "   'profile_path': '/3ukZNKKkzrOD3t0LkkVhe3cGMVy.jpg'},\n",
       "  {'cast_id': 40,\n",
       "   'character': 'Village Magistrate',\n",
       "   'credit_id': '5eb5a5b2c3514c002058a348',\n",
       "   'gender': 2,\n",
       "   'id': 1255311,\n",
       "   'name': 'Hoon Lee',\n",
       "   'order': 17,\n",
       "   'profile_path': '/3Ux4nTEfPySyZg6yBlu1uXR1TyT.jpg'},\n",
       "  {'cast_id': 41,\n",
       "   'character': 'Young Mulan',\n",
       "   'credit_id': '5eb5a5e4cc277c002068a540',\n",
       "   'gender': 0,\n",
       "   'id': 2630268,\n",
       "   'name': 'Crystal Rao',\n",
       "   'order': 18,\n",
       "   'profile_path': None},\n",
       "  {'cast_id': 49,\n",
       "   'character': 'Young Xiu',\n",
       "   'credit_id': '5f53dd0aec18790037fe5d71',\n",
       "   'gender': 0,\n",
       "   'id': 2766947,\n",
       "   'name': 'Elena Askin',\n",
       "   'order': 19,\n",
       "   'profile_path': None},\n",
       "  {'cast_id': 50,\n",
       "   'character': 'Longwei',\n",
       "   'credit_id': '5f53dd20a0b6900033cfdfd9',\n",
       "   'gender': 0,\n",
       "   'id': 2766948,\n",
       "   'name': 'Vincent Feng',\n",
       "   'order': 20,\n",
       "   'profile_path': None},\n",
       "  {'cast_id': 51,\n",
       "   'character': 'Young Soldier',\n",
       "   'credit_id': '5f53dd4966540800320954b4',\n",
       "   'gender': 0,\n",
       "   'id': 2766949,\n",
       "   'name': \"R.J. O'Young\",\n",
       "   'order': 21,\n",
       "   'profile_path': None},\n",
       "  {'cast_id': 52,\n",
       "   'character': 'Duba Tegin',\n",
       "   'credit_id': '5f53dd7646f3540038199054',\n",
       "   'gender': 2,\n",
       "   'id': 2974,\n",
       "   'name': 'Roger Yuan',\n",
       "   'order': 22,\n",
       "   'profile_path': '/jHdxbT6n3ToYKw0DVFIUkva86SO.jpg'},\n",
       "  {'cast_id': 53,\n",
       "   'character': 'Tulugui Tegin',\n",
       "   'credit_id': '5f53dd86665408003409952b',\n",
       "   'gender': 2,\n",
       "   'id': 1746630,\n",
       "   'name': 'Jenson Cheng',\n",
       "   'order': 23,\n",
       "   'profile_path': '/AkBawKOZaYcTjDbqBgA2s900OoY.jpg'},\n",
       "  {'cast_id': 54,\n",
       "   'character': 'Red Fez',\n",
       "   'credit_id': '5f53ddb8848eb900356306bb',\n",
       "   'gender': 2,\n",
       "   'id': 1496153,\n",
       "   'name': 'Arka Das',\n",
       "   'order': 24,\n",
       "   'profile_path': '/hbmlfI4zeChzGMskEcO3kpjfa31.jpg'},\n",
       "  {'cast_id': 55,\n",
       "   'character': 'Kilifu Tegin',\n",
       "   'credit_id': '5f53ddedb234b900372161f6',\n",
       "   'gender': 2,\n",
       "   'id': 84609,\n",
       "   'name': 'Jen Sung',\n",
       "   'order': 25,\n",
       "   'profile_path': '/e9c3vaTlESZHWOHCOttmCH9AWN7.jpg'},\n",
       "  {'cast_id': 56,\n",
       "   'character': 'Bati Tegin',\n",
       "   'credit_id': '5f53de00d705940034cb7184',\n",
       "   'gender': 0,\n",
       "   'id': 1558030,\n",
       "   'name': 'King Lau',\n",
       "   'order': 26,\n",
       "   'profile_path': '/bkU5kJloq7Wkar3GCTKZ3R8gfOS.jpg'},\n",
       "  {'cast_id': 32,\n",
       "   'character': 'Hua Xiu',\n",
       "   'credit_id': '5da06d484a22260013e0804f',\n",
       "   'gender': 0,\n",
       "   'id': 571567,\n",
       "   'name': 'Xana Tang',\n",
       "   'order': 27,\n",
       "   'profile_path': '/1z2Nn5KSAq82yfsd7IXYxBMI3T2.jpg'},\n",
       "  {'cast_id': 57,\n",
       "   'character': 'Stallion Tegin',\n",
       "   'credit_id': '5f53de12848eb900366180f5',\n",
       "   'gender': 2,\n",
       "   'id': 1818132,\n",
       "   'name': 'Zhaidarbek Kunguzhinov',\n",
       "   'order': 28,\n",
       "   'profile_path': None},\n",
       "  {'cast_id': 58,\n",
       "   'character': 'Garrison Commander',\n",
       "   'credit_id': '5f53de89d705940033ccc275',\n",
       "   'gender': 0,\n",
       "   'id': 2766950,\n",
       "   'name': 'Gary Young',\n",
       "   'order': 29,\n",
       "   'profile_path': None},\n",
       "  {'cast_id': 59,\n",
       "   'character': 'Garrison Scout',\n",
       "   'credit_id': '5f53deab55bc350033332890',\n",
       "   'gender': 0,\n",
       "   'id': 2766951,\n",
       "   'name': 'Wolf Chen',\n",
       "   'order': 30,\n",
       "   'profile_path': None},\n",
       "  {'cast_id': 60,\n",
       "   'character': 'Senior Officer',\n",
       "   'credit_id': '5f53decc6654080034099b3a',\n",
       "   'gender': 2,\n",
       "   'id': 2313015,\n",
       "   'name': 'Owen Kwong',\n",
       "   'order': 31,\n",
       "   'profile_path': '/dr30VDiMLFBIxR8sNu6h2wgWTug.jpg'},\n",
       "  {'cast_id': 37,\n",
       "   'character': 'Lee Xian',\n",
       "   'credit_id': '5e9a125f0b5fd60015c03478',\n",
       "   'gender': 2,\n",
       "   'id': 2605226,\n",
       "   'name': 'Radhesh Aria',\n",
       "   'order': 32,\n",
       "   'profile_path': None}],\n",
       " 'crew': [{'credit_id': '57f4a5dd9251411c7e00241d',\n",
       "   'department': 'Production',\n",
       "   'gender': 2,\n",
       "   'id': 298,\n",
       "   'job': 'Producer',\n",
       "   'name': 'Chris Bender',\n",
       "   'profile_path': None},\n",
       "  {'credit_id': '5ad044d10e0a26302a0024ec',\n",
       "   'department': 'Costume & Make-Up',\n",
       "   'gender': 0,\n",
       "   'id': 3657,\n",
       "   'job': 'Costume Design',\n",
       "   'name': 'Bina Daigeler',\n",
       "   'profile_path': None},\n",
       "  {'credit_id': '5b823b300e0a264592022904',\n",
       "   'department': 'Art',\n",
       "   'gender': 2,\n",
       "   'id': 1314,\n",
       "   'job': 'Production Design',\n",
       "   'name': 'Grant Major',\n",
       "   'profile_path': None},\n",
       "  {'credit_id': '5f56ae4f350398003588ae82',\n",
       "   'department': 'Sound',\n",
       "   'gender': 0,\n",
       "   'id': 5338,\n",
       "   'job': 'Sound Designer',\n",
       "   'name': 'Kyrsten Mate',\n",
       "   'profile_path': None},\n",
       "  {'credit_id': '5f56ae2d1d78f200329a95a5',\n",
       "   'department': 'Art',\n",
       "   'gender': 1,\n",
       "   'id': 8706,\n",
       "   'job': 'Set Decoration',\n",
       "   'name': 'Anne Kuljian',\n",
       "   'profile_path': None},\n",
       "  {'credit_id': '5b81cdc192514159d9016ed0',\n",
       "   'department': 'Sound',\n",
       "   'gender': 2,\n",
       "   'id': 5553,\n",
       "   'job': 'Original Music Composer',\n",
       "   'name': 'Harry Gregson-Williams',\n",
       "   'profile_path': None},\n",
       "  {'credit_id': '58a400c592514165b90007b3',\n",
       "   'department': 'Directing',\n",
       "   'gender': 1,\n",
       "   'id': 15287,\n",
       "   'job': 'Director',\n",
       "   'name': 'Niki Caro',\n",
       "   'profile_path': '/ooJcmnhX9qJ0E7bCdSQCxr7JViH.jpg'},\n",
       "  {'credit_id': '5b823b200e0a26459c01f0b2',\n",
       "   'department': 'Editing',\n",
       "   'gender': 2,\n",
       "   'id': 15291,\n",
       "   'job': 'Editor',\n",
       "   'name': 'David Coulson',\n",
       "   'profile_path': None},\n",
       "  {'credit_id': '57f4a649c3a368054e001f87',\n",
       "   'department': 'Production',\n",
       "   'gender': 2,\n",
       "   'id': 20223,\n",
       "   'job': 'Producer',\n",
       "   'name': 'J.C. Spink',\n",
       "   'profile_path': None},\n",
       "  {'credit_id': '5ad044eb92514138fe0022a6',\n",
       "   'department': 'Camera',\n",
       "   'gender': 1,\n",
       "   'id': 57849,\n",
       "   'job': 'Director of Photography',\n",
       "   'name': 'Mandy Walker',\n",
       "   'profile_path': '/VCgawTuKQygLce54PQ9QcVjL7y.jpg'},\n",
       "  {'credit_id': '57f4a655c3a368055900238d',\n",
       "   'department': 'Production',\n",
       "   'gender': 0,\n",
       "   'id': 62241,\n",
       "   'job': 'Producer',\n",
       "   'name': 'Jake Weiner',\n",
       "   'profile_path': None},\n",
       "  {'credit_id': '5f29f0d7d8cc4a00381d9cc9',\n",
       "   'department': 'Writing',\n",
       "   'gender': 2,\n",
       "   'id': 67802,\n",
       "   'job': 'Screenplay',\n",
       "   'name': 'Rick Jaffa',\n",
       "   'profile_path': '/iki2KpmMFhLIdq3pvHhq7tit8Q1.jpg'},\n",
       "  {'credit_id': '5f29f0cf9f37b000352da1d3',\n",
       "   'department': 'Writing',\n",
       "   'gender': 1,\n",
       "   'id': 67803,\n",
       "   'job': 'Screenplay',\n",
       "   'name': 'Amanda Silver',\n",
       "   'profile_path': '/j26E4ifZClUceVocOmDG9sWm7uP.jpg'},\n",
       "  {'credit_id': '57f4a6359251411c6c002216',\n",
       "   'department': 'Production',\n",
       "   'gender': 0,\n",
       "   'id': 100186,\n",
       "   'job': 'Producer',\n",
       "   'name': 'Jason Reed',\n",
       "   'profile_path': None},\n",
       "  {'credit_id': '5f56aebb1511aa00341d4a79',\n",
       "   'department': 'Costume & Make-Up',\n",
       "   'gender': 0,\n",
       "   'id': 1361035,\n",
       "   'job': 'Makeup Artist',\n",
       "   'name': 'Jacqui Leung',\n",
       "   'profile_path': None},\n",
       "  {'credit_id': '5f56af029661fc003710037e',\n",
       "   'department': 'Costume & Make-Up',\n",
       "   'gender': 0,\n",
       "   'id': 1425359,\n",
       "   'job': 'Makeup Artist',\n",
       "   'name': 'Chiara Tripodi',\n",
       "   'profile_path': None},\n",
       "  {'credit_id': '5f56aef1e627190037ee46a0',\n",
       "   'department': 'Costume & Make-Up',\n",
       "   'gender': 0,\n",
       "   'id': 1431503,\n",
       "   'job': 'Makeup Artist',\n",
       "   'name': 'Claire Rutledge',\n",
       "   'profile_path': None},\n",
       "  {'credit_id': '5f56aece1d78f200359a8e00',\n",
       "   'department': 'Costume & Make-Up',\n",
       "   'gender': 0,\n",
       "   'id': 1457305,\n",
       "   'job': 'Makeup Artist',\n",
       "   'name': 'Georgia Lockhart-Adams',\n",
       "   'profile_path': None},\n",
       "  {'credit_id': '5f56aee290cf510032a6a2d7',\n",
       "   'department': 'Costume & Make-Up',\n",
       "   'gender': 0,\n",
       "   'id': 1609177,\n",
       "   'job': 'Makeup Artist',\n",
       "   'name': 'Michele Perry',\n",
       "   'profile_path': None},\n",
       "  {'credit_id': '5f29f109435abd00367ea5f2',\n",
       "   'department': 'Writing',\n",
       "   'gender': 0,\n",
       "   'id': 1689366,\n",
       "   'job': 'Screenplay',\n",
       "   'name': 'Lauren Hynek',\n",
       "   'profile_path': None},\n",
       "  {'credit_id': '5f29f1002d8ef3791fd5c060',\n",
       "   'department': 'Writing',\n",
       "   'gender': 0,\n",
       "   'id': 1689367,\n",
       "   'job': 'Screenplay',\n",
       "   'name': 'Elizabeth Martin',\n",
       "   'profile_path': None},\n",
       "  {'credit_id': '5f56aead1511aa00361fc6cb',\n",
       "   'department': 'Costume & Make-Up',\n",
       "   'gender': 0,\n",
       "   'id': 1805804,\n",
       "   'job': 'Makeup Artist',\n",
       "   'name': 'Shay Lawrence',\n",
       "   'profile_path': None},\n",
       "  {'credit_id': '5eadd6fb0c3ec80025cc0b1d',\n",
       "   'department': 'Crew',\n",
       "   'gender': 2,\n",
       "   'id': 2095539,\n",
       "   'job': 'Stunt Double',\n",
       "   'name': 'Tori Marsh',\n",
       "   'profile_path': '/zcou4W6DXf9xXkToynhYtPNhCoa.jpg'},\n",
       "  {'credit_id': '5e62447455c92600155b202d',\n",
       "   'department': 'Production',\n",
       "   'gender': 2,\n",
       "   'id': 2104569,\n",
       "   'job': 'Producer',\n",
       "   'name': 'Tendo Nagenda',\n",
       "   'profile_path': None},\n",
       "  {'credit_id': '5f56ae9b6a300b0036dcda8e',\n",
       "   'department': 'Costume & Make-Up',\n",
       "   'gender': 0,\n",
       "   'id': 2201972,\n",
       "   'job': 'Makeup Artist',\n",
       "   'name': 'Leanne Hoare',\n",
       "   'profile_path': None},\n",
       "  {'credit_id': '5ea1b504e942be001d1f59c2',\n",
       "   'department': 'Crew',\n",
       "   'gender': 1,\n",
       "   'id': 2612360,\n",
       "   'job': 'Stunt Double',\n",
       "   'name': 'Ashlee Fidow',\n",
       "   'profile_path': '/q0UwYu1A9BXUAuQumCIwOAsSVj.jpg'},\n",
       "  {'credit_id': '5f24d72af0647c0032239809',\n",
       "   'department': 'Visual Effects',\n",
       "   'gender': 2,\n",
       "   'id': 2725433,\n",
       "   'job': 'Visual Effects',\n",
       "   'name': 'Joe Howes',\n",
       "   'profile_path': '/qKNYWKmGDYDZt2SnNds8a5jv2av.jpg'},\n",
       "  {'credit_id': '5f56af1f350398003588b2c6',\n",
       "   'department': 'Costume & Make-Up',\n",
       "   'gender': 0,\n",
       "   'id': 2769344,\n",
       "   'job': 'Makeup Artist',\n",
       "   'name': 'Ally Williams',\n",
       "   'profile_path': None}]}"
      ]
     },
     "execution_count": 85,
     "metadata": {},
     "output_type": "execute_result"
    }
   ],
   "source": [
    "con"
   ]
  },
  {
   "cell_type": "code",
   "execution_count": 92,
   "metadata": {},
   "outputs": [],
   "source": [
    "cast = []\n",
    "for i in con['cast']:\n",
    "    p = {\n",
    "        'character':i['character'],\n",
    "        'name':i['name'],\n",
    "        'profile_path': i['profile_path']\n",
    "    }\n",
    "    cast.append(p)\n",
    "\n",
    "    \n"
   ]
  },
  {
   "cell_type": "code",
   "execution_count": 96,
   "metadata": {},
   "outputs": [
    {
     "data": {
      "text/plain": [
       "{'character': 'Hua Mulan',\n",
       " 'name': 'Liu Yifei',\n",
       " 'profile_path': '/cL6JccAYqiZQEAIEFObEUC9LTt7.jpg'}"
      ]
     },
     "execution_count": 96,
     "metadata": {},
     "output_type": "execute_result"
    }
   ],
   "source": [
    "cast[0]"
   ]
  },
  {
   "cell_type": "code",
   "execution_count": null,
   "metadata": {},
   "outputs": [],
   "source": []
  }
 ],
 "metadata": {
  "kernelspec": {
   "display_name": "Python 3",
   "language": "python",
   "name": "python3"
  },
  "language_info": {
   "codemirror_mode": {
    "name": "ipython",
    "version": 3
   },
   "file_extension": ".py",
   "mimetype": "text/x-python",
   "name": "python",
   "nbconvert_exporter": "python",
   "pygments_lexer": "ipython3",
   "version": "3.6.10"
  }
 },
 "nbformat": 4,
 "nbformat_minor": 2
}
